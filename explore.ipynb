{
 "cells": [
  {
   "cell_type": "code",
   "execution_count": 25,
   "metadata": {},
   "outputs": [
    {
     "name": "stderr",
     "output_type": "stream",
     "text": [
      "C:\\Users\\Nick\\AppData\\Local\\Temp\\ipykernel_28400\\1271633066.py:6: DeprecationWarning: Importing display from IPython.core.display is deprecated since IPython 7.14, please import from IPython.display\n",
      "  from IPython.core.display import HTML, display\n"
     ]
    },
    {
     "data": {
      "text/html": [
       "<style>.output_area pre { white-space: pre-wrap !important; }</style>"
      ],
      "text/plain": [
       "<IPython.core.display.HTML object>"
      ]
     },
     "metadata": {},
     "output_type": "display_data"
    },
    {
     "name": "stderr",
     "output_type": "stream",
     "text": [
      "`flash-attention` package not found, consider installing for better performance: No module named 'flash_attn'.\n",
      "Current `flash-attention` does not support `window_size`. Either upgrade or use `attn_implementation='eager'`.\n"
     ]
    },
    {
     "data": {
      "application/vnd.jupyter.widget-view+json": {
       "model_id": "3b291abada0c4406808c9d929ee67393",
       "version_major": 2,
       "version_minor": 0
      },
      "text/plain": [
       "Loading checkpoint shards:   0%|          | 0/2 [00:00<?, ?it/s]"
      ]
     },
     "metadata": {},
     "output_type": "display_data"
    },
    {
     "name": "stderr",
     "output_type": "stream",
     "text": [
      "Special tokens have been added in the vocabulary, make sure the associated word embeddings are fine-tuned or trained.\n"
     ]
    }
   ],
   "source": [
    "from pathlib import Path\n",
    "from typing import List, Union\n",
    "\n",
    "\n",
    "import torch\n",
    "from IPython.core.display import HTML, display\n",
    "from transformers import AutoModelForCausalLM, AutoTokenizer\n",
    "\n",
    "display(HTML(\"<style>.output_area pre { white-space: pre-wrap !important; }</style>\"))\n",
    "\n",
    "model = AutoModelForCausalLM.from_pretrained(\n",
    "    \"eurecom-ds/Phi-3-mini-4k-socratic\",\n",
    "    torch_dtype=torch.bfloat16,\n",
    "    trust_remote_code=True,\n",
    "    device_map=\"cpu\",  # \"cuda\",\n",
    ")\n",
    "\n",
    "tokenizer = AutoTokenizer.from_pretrained(\n",
    "    \"eurecom-ds/Phi-3-mini-4k-socratic\", trust_remote_code=True\n",
    ")\n",
    "tokenizer.pad_token = tokenizer.eos_token  # Most LLMs don't have a default pad token."
   ]
  },
  {
   "cell_type": "code",
   "execution_count": 23,
   "metadata": {},
   "outputs": [],
   "source": [
    "def load_template(template_path: Union[str, Path] = \"templates/inference.txt\") -> str:\n",
    "    \"\"\"Load the chat template from a `template_path`.\n",
    "\n",
    "    Args:\n",
    "        template_path (Union[str, Path], optional): The path to the template to load.\n",
    "        Defaults to \"templates/inference.txt\".\n",
    "\n",
    "    Returns:\n",
    "        str: The template, loaded as a string, whitespace removed.\n",
    "    \"\"\"\n",
    "    with open(template_path, \"r\", encoding=\"utf-8\") as f:\n",
    "        return f.read().strip()\n",
    "\n",
    "\n",
    "def format_prompt(prompt: str, template: str) -> str:\n",
    "    \"\"\"Format one or more prompts using a pre-loaded loaded chat template.\n",
    "\n",
    "    Args:\n",
    "        prompt (str): The raw user input.\n",
    "        template (str): The template, within which to insert the `prompt`, loaded as a\n",
    "            string.\n",
    "\n",
    "    Returns:\n",
    "        str: The template with the `prompt` inserted appropriately.\n",
    "    \"\"\"\n",
    "    return template.replace(\"{input}\", prompt).strip()\n",
    "\n",
    "\n",
    "def chat(user_input: Union[str, List], template: str) -> Union[str, List]:\n",
    "    \"\"\"Generates a response from the model using the template.\n",
    "\n",
    "    Args:\n",
    "        user_input (Union[str, List]): One or more prompts.\n",
    "        template (str): The associated template for prompting.\n",
    "\n",
    "    Returns:\n",
    "        Union[str, List]: One or more responses, one for each prompt.\n",
    "    \"\"\"\n",
    "    if isinstance(user_input, str):\n",
    "        user_input = [user_input]\n",
    "    prompts = [format_prompt(prompt, template) for prompt in user_input]\n",
    "    model_inputs = tokenizer(prompts, return_tensors=\"pt\", padding=True)\n",
    "\n",
    "    with torch.no_grad():\n",
    "        generated_ids = model.generate(\n",
    "            **model_inputs,\n",
    "            do_sample=True,\n",
    "            temperature=0.8,\n",
    "            top_p=0.95,\n",
    "            length_penalty=1.0,\n",
    "            repetition_penalty=1.0,\n",
    "            max_new_tokens=100,\n",
    "            pad_token_id=tokenizer.eos_token_id,\n",
    "        )\n",
    "\n",
    "    full_outputs = tokenizer.batch_decode(generated_ids, skip_special_tokens=True)\n",
    "    generated_texts = [\n",
    "        full_output[len(prompt) :].strip()  # Only extract the LLM's answer.\n",
    "        for prompt, full_output in zip(prompts, full_outputs)\n",
    "    ]\n",
    "    if len(generated_texts) == 1:\n",
    "        print(generated_texts[0])\n",
    "        return generated_texts[0]\n",
    "    for generated_text in generated_texts:\n",
    "        print(generated_text)\n",
    "    return generated_texts"
   ]
  },
  {
   "cell_type": "code",
   "execution_count": null,
   "metadata": {},
   "outputs": [
    {
     "name": "stdout",
     "output_type": "stream",
     "text": [
      "Happiness is certainly a significant component. Can you think of philosophical or scientific perspectives that might also contribute to the concept of the meaning of life? This will help us explore various dimensions.\n",
      "Your intuition about foreign influence is insightful! How do you think that earlier policy might have shaped the Monroe Doctrine's specific stance towards European powers? This should help you piece together the doctrine's foundation.\n",
      "That's a profound question! What implications do you think this quote might have on our understanding of the universe and on the field of quantum mechanics?\n",
      "['Happiness is certainly a significant component. Can you think of philosophical or scientific perspectives that might also contribute to the concept of the meaning of life? This will help us explore various dimensions.', \"Your intuition about foreign influence is insightful! How do you think that earlier policy might have shaped the Monroe Doctrine's specific stance towards European powers? This should help you piece together the doctrine's foundation.\", \"That's a profound question! What implications do you think this quote might have on our understanding of the universe and on the field of quantum mechanics?\"]\n"
     ]
    }
   ],
   "source": [
    "template = load_template()\n",
    "prompts = [\n",
    "    \"\"\"Student: What is the meaning of life?\n",
    "Teacher: That's a deep question! What do you think makes life meaningful?'\n",
    "Student: I'm not sure. Maybe happiness?\n",
    "\"\"\",\n",
    "    \"\"\"Student: What inspired the Monroe Doctrine?\n",
    "Teacher: That's a complex geopolitical question! What can you tell me about American foreign policy before James Monroe's presidency??'\n",
    "Student: I think perhaps something to do with active foreign influence?\n",
    "\"\"\",\n",
    "    \"Student: Professor, why did Einstein say that God does not play dice?\",\n",
    "]\n",
    "response = chat(prompts, template)"
   ]
  },
  {
   "cell_type": "code",
   "execution_count": 26,
   "metadata": {},
   "outputs": [
    {
     "name": "stdout",
     "output_type": "stream",
     "text": [
      "You've touched on an intriguing aspect. Considering that physicists like Einstein and Heisenberg have contributed significantly to our understanding of determinism and probability. Now, thinking about this unsettling concept, what implications could this have for our broader understanding of the universe? Let's explore different philosophical outlooks on determinism and free will as well. How might they influence our interpretation of scientific theories?\n"
     ]
    }
   ],
   "source": [
    "prompts = [\n",
    "    \"\"\"\n",
    "Student: Perhaps Einstein believed that the theory was incomplete, as physics must ultimately be deterministic.\n",
    "Teacher: Is that the case though? What other evidence would lead one to think that physics cannot contain inherent randomness?\n",
    "Student: Throughout history, physics has been used to predict the future reliably. The thought that it has run to a point where randomness is indeed in the fabric of reality, and that we just need to accept not being able to know the answer--it's unsettling.\n",
    "Teacher: What makes it particularly unsettling? Is it human nature to think of the unknown as an unsettling idea?\n",
    "Student: I don't think I can say without further research. Did physicists ever decide that the universe is now not deterministic? This leads to my next question--do most of them believe in free will? Why or why not?\n",
    "\"\"\",\n",
    "]\n",
    "response = chat(prompts, template)"
   ]
  },
  {
   "cell_type": "code",
   "execution_count": null,
   "metadata": {},
   "outputs": [
    {
     "data": {
      "text/plain": [
       "\"Fascinating lines of thought! How might we approach reconciling the deterministic nature of classical physics with the probabilistic outcomes in quantum mechanics? Also, considering different interpretations, such as the Copenhagen interpretation, how might they affect a physicist's stance on free will?\\n\\nLet's unpack these ideas together. What do you think are some implications for free will when considering the uncertainties in quantum events?\""
      ]
     },
     "execution_count": 18,
     "metadata": {},
     "output_type": "execute_result"
    }
   ],
   "source": [
    "prompts = [\n",
    "    \"\"\"\n",
    "Student: Please just help me come to a conclusion. Would you say that most physicists believe in free will now? Has quantum mechanics changed their philosophy?\n",
    "\"\"\",\n",
    "]\n",
    "response = chat(prompts, template)"
   ]
  }
 ],
 "metadata": {
  "kernelspec": {
   "display_name": "venv",
   "language": "python",
   "name": "python3"
  },
  "language_info": {
   "codemirror_mode": {
    "name": "ipython",
    "version": 3
   },
   "file_extension": ".py",
   "mimetype": "text/x-python",
   "name": "python",
   "nbconvert_exporter": "python",
   "pygments_lexer": "ipython3",
   "version": "3.10.11"
  }
 },
 "nbformat": 4,
 "nbformat_minor": 2
}
